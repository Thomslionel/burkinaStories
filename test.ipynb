{
 "cells": [
  {
   "cell_type": "code",
   "execution_count": 11,
   "id": "c9b5c67b",
   "metadata": {},
   "outputs": [],
   "source": [
    "import pandas as pd\n",
    "from pathlib import Path\n",
    "\n",
    "# 1. Charger le CSV\n",
    "df = pd.read_csv(\"data\\stories.csv\", sep= \";\", encoding=\"utf-8-sig\" )  # chemin vers votre CSV\n",
    "\n",
    "# 2. Créer un dossier pour stocker les documents\n",
    "output_dir = Path(\"docs_rag\")\n",
    "output_dir.mkdir(exist_ok=True)\n",
    "\n",
    "# 3. Pour chaque ligne, créer un fichier texte\n",
    "for idx, row in df.iterrows():\n",
    "    titre = row[\"Titre\"]\n",
    "    histoire = row[\"Histoire\"]\n",
    "    content = f\"{titre}\\n\\n{histoire}\"\n",
    "    \n",
    "    # nom du fichier : doc_0001.txt, doc_0002.txt, ...\n",
    "    fname = output_dir / f\"doc_{idx:04d}.txt\"\n",
    "    with open(fname, \"w\", encoding=\"utf-8-sig\") as f:\n",
    "        f.write(content)\n"
   ]
  },
  {
   "cell_type": "code",
   "execution_count": null,
   "id": "5e1710e4",
   "metadata": {},
   "outputs": [],
   "source": []
  }
 ],
 "metadata": {
  "kernelspec": {
   "display_name": "Python 3",
   "language": "python",
   "name": "python3"
  },
  "language_info": {
   "codemirror_mode": {
    "name": "ipython",
    "version": 3
   },
   "file_extension": ".py",
   "mimetype": "text/x-python",
   "name": "python",
   "nbconvert_exporter": "python",
   "pygments_lexer": "ipython3",
   "version": "3.11.0"
  }
 },
 "nbformat": 4,
 "nbformat_minor": 5
}
